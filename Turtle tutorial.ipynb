{
 "cells": [
  {
   "cell_type": "markdown",
   "id": "decbeb6e",
   "metadata": {},
   "source": [
    "## Python Turtle Tutorial\n",
    "\n",
    "Turtle is a pre-installed Python library that enables users to create pictures and shapes by providing them with a virtual canvas. The onscreen pen that you use for drawing is called the turtle and this is what gives the library its name. In short, the Python turtle library helps new programmers get a feel for what programming with Python is like in a fun and interactive way.\n",
    "\n",
    "Source for tutorial https://realpython.com/beginners-guide-python-turtle/#:~:text=turtle%20is%20a%20pre%2Dinstalled,gives%20the%20library%20its%20name.\n"
   ]
  },
  {
   "cell_type": "code",
   "execution_count": null,
   "id": "8dd99ae3",
   "metadata": {},
   "outputs": [],
   "source": [
    "# import the turtle library\n",
    "import turtle"
   ]
  },
  {
   "cell_type": "code",
   "execution_count": null,
   "id": "35fcb5cd",
   "metadata": {},
   "outputs": [],
   "source": [
    "# open a Screen\n",
    "s = turtle.getscreen()"
   ]
  },
  {
   "cell_type": "code",
   "execution_count": null,
   "id": "4640c8bd",
   "metadata": {},
   "outputs": [],
   "source": [
    "# establish a turtle, will be a small triangle in middle of Screen\n",
    "t = turtle.Turtle()"
   ]
  },
  {
   "cell_type": "code",
   "execution_count": null,
   "id": "f32db110",
   "metadata": {},
   "outputs": [],
   "source": [
    "# turn turtle right 90 deg (abbreviate rt)\n",
    "t.right(90)"
   ]
  },
  {
   "cell_type": "code",
   "execution_count": null,
   "id": "a83e68af",
   "metadata": {},
   "outputs": [],
   "source": [
    "# move turtle forward 100 px (abbreviate fd)\n",
    "t.forward(100)"
   ]
  },
  {
   "cell_type": "code",
   "execution_count": null,
   "id": "bdc69645",
   "metadata": {},
   "outputs": [],
   "source": [
    "# turn turtle left 90 deg (abbreviate lt)\n",
    "t.left(90)"
   ]
  },
  {
   "cell_type": "code",
   "execution_count": null,
   "id": "c6eb8e4f",
   "metadata": {},
   "outputs": [],
   "source": [
    "# move turtle backwards 100 px (abbreviate bk)\n",
    "t.backward(100)"
   ]
  },
  {
   "cell_type": "code",
   "execution_count": null,
   "id": "5caa5fa1",
   "metadata": {},
   "outputs": [],
   "source": [
    "# move to specific point on a screen\n",
    "t.goto(-100,-100)"
   ]
  },
  {
   "cell_type": "code",
   "execution_count": null,
   "id": "721b5b2a",
   "metadata": {},
   "outputs": [],
   "source": [
    "# move turtle back to starting point (0,0)\n",
    "t.home()"
   ]
  },
  {
   "cell_type": "code",
   "execution_count": null,
   "id": "81b3321b",
   "metadata": {},
   "outputs": [],
   "source": [
    "t.clear()"
   ]
  },
  {
   "cell_type": "code",
   "execution_count": null,
   "id": "72e7ae9e",
   "metadata": {},
   "outputs": [],
   "source": [
    "# draw a square\n",
    "t.fd(100)\n",
    "t.rt(90)\n",
    "t.fd(200)\n",
    "t.rt(90)\n",
    "t.fd(100)\n",
    "t.rt(90)\n",
    "t.fd(200)"
   ]
  },
  {
   "cell_type": "code",
   "execution_count": null,
   "id": "5765e7a2",
   "metadata": {},
   "outputs": [],
   "source": [
    "# How would we draw a rectangle?"
   ]
  },
  {
   "cell_type": "code",
   "execution_count": null,
   "id": "d7d84eeb",
   "metadata": {},
   "outputs": [],
   "source": [
    "# draw a circle\n",
    "t.circle(100)"
   ]
  },
  {
   "cell_type": "code",
   "execution_count": null,
   "id": "7f991ad3",
   "metadata": {},
   "outputs": [],
   "source": [
    "# draw a dot (filled in circle)\n",
    "t.dot(20)"
   ]
  },
  {
   "cell_type": "code",
   "execution_count": null,
   "id": "2c039ff6",
   "metadata": {},
   "outputs": [],
   "source": [
    "# change background color\n",
    "turtle.bgcolor(\"pink\")"
   ]
  },
  {
   "cell_type": "code",
   "execution_count": null,
   "id": "552c4171",
   "metadata": {},
   "outputs": [],
   "source": [
    "# try other colors"
   ]
  },
  {
   "cell_type": "code",
   "execution_count": null,
   "id": "f78f0053",
   "metadata": {},
   "outputs": [],
   "source": [
    "# change screen title\n",
    "turtle.title(\"confusing\")"
   ]
  },
  {
   "cell_type": "code",
   "execution_count": null,
   "id": "e1ced1b7",
   "metadata": {},
   "outputs": [],
   "source": [
    "# change turtle size (Stretch length,Stretch width,Outline width)\n",
    "t.shapesize(1,5,10)"
   ]
  },
  {
   "cell_type": "code",
   "execution_count": null,
   "id": "8cc94409",
   "metadata": {},
   "outputs": [],
   "source": [
    "t.shapesize(10,5,1)"
   ]
  },
  {
   "cell_type": "code",
   "execution_count": null,
   "id": "c77c1747",
   "metadata": {},
   "outputs": [],
   "source": [
    "t.shapesize(1,10,5)"
   ]
  },
  {
   "cell_type": "code",
   "execution_count": null,
   "id": "5520c0cf",
   "metadata": {},
   "outputs": [],
   "source": [
    "t.shapesize(1,1,1)"
   ]
  },
  {
   "cell_type": "code",
   "execution_count": null,
   "id": "d362b4dc",
   "metadata": {},
   "outputs": [],
   "source": [
    "t.clear()"
   ]
  },
  {
   "cell_type": "code",
   "execution_count": null,
   "id": "87ab7a89",
   "metadata": {},
   "outputs": [],
   "source": [
    "# change pen width\n",
    "t.pensize(5)\n",
    "t.forward(100)"
   ]
  },
  {
   "cell_type": "code",
   "execution_count": null,
   "id": "3ff86af7",
   "metadata": {},
   "outputs": [],
   "source": [
    "# try other line thickness"
   ]
  },
  {
   "cell_type": "code",
   "execution_count": null,
   "id": "e12867d2",
   "metadata": {},
   "outputs": [],
   "source": [
    "# home and clear\n",
    "t.home()\n",
    "t.clear()"
   ]
  },
  {
   "cell_type": "code",
   "execution_count": null,
   "id": "d3677b5c",
   "metadata": {},
   "outputs": [],
   "source": [
    "# change pen color\n",
    "\n",
    "# first change sze of turtle so its easier to see difference\n",
    "t.shapesize(3,3,3)\n",
    "\n",
    "# then change color\n",
    "t.fillcolor(\"red\")"
   ]
  },
  {
   "cell_type": "code",
   "execution_count": null,
   "id": "2721c777",
   "metadata": {},
   "outputs": [],
   "source": [
    "# change outline color\n",
    "t.pencolor(\"green\")"
   ]
  },
  {
   "cell_type": "code",
   "execution_count": null,
   "id": "952e891f",
   "metadata": {},
   "outputs": [],
   "source": [
    "# change both fill and outline together (pen,fill)\n",
    "t.color(\"blue\", \"orange\")"
   ]
  },
  {
   "cell_type": "code",
   "execution_count": null,
   "id": "518c23e7",
   "metadata": {},
   "outputs": [],
   "source": [
    "# draw a filled object\n",
    "t.begin_fill()\n",
    "t.fd(100)\n",
    "t.lt(120)\n",
    "t.fd(100)\n",
    "t.lt(120)\n",
    "t.fd(100)\n",
    "t.end_fill()"
   ]
  },
  {
   "cell_type": "code",
   "execution_count": null,
   "id": "de16f73e",
   "metadata": {},
   "outputs": [],
   "source": [
    "# reset turtle, home and clear\n",
    "t.shapesize(1,1,1)\n",
    "t.color(\"black\", \"black\")\n",
    "t.home()\n",
    "t.clear()"
   ]
  },
  {
   "cell_type": "code",
   "execution_count": null,
   "id": "e3fdf3c8",
   "metadata": {},
   "outputs": [],
   "source": [
    "# change to turtle shape\n",
    "t.shape(\"turtle\")"
   ]
  },
  {
   "cell_type": "code",
   "execution_count": null,
   "id": "88cf108e",
   "metadata": {},
   "outputs": [],
   "source": [
    "# or an arrow\n",
    "t.shape(\"arrow\")"
   ]
  },
  {
   "cell_type": "code",
   "execution_count": null,
   "id": "9f3541dd",
   "metadata": {},
   "outputs": [],
   "source": [
    "# or a circle\n",
    "t.shape(\"circle\")"
   ]
  },
  {
   "cell_type": "code",
   "execution_count": null,
   "id": "8fd2df39",
   "metadata": {},
   "outputs": [],
   "source": [
    "t.color(\"green\",\"green\")"
   ]
  },
  {
   "cell_type": "code",
   "execution_count": null,
   "id": "951a90bc",
   "metadata": {},
   "outputs": [],
   "source": [
    "# shape options include:\n",
    "# Square\n",
    "# Arrow\n",
    "# Circle\n",
    "# Turtle\n",
    "# Triangle\n",
    "# Classic"
   ]
  },
  {
   "cell_type": "code",
   "execution_count": null,
   "id": "5ef3b3c9",
   "metadata": {},
   "outputs": [],
   "source": [
    "# change the pen speed (between 1 andd 10)\n",
    "t.shape(\"turtle\")\n",
    "t.speed(1)\n",
    "t.forward(100)\n",
    "t.rt(90)\n",
    "t.speed(3)\n",
    "t.forward(100)\n",
    "t.rt(90)\n",
    "t.speed(5)\n",
    "t.forward(100)\n",
    "t.rt(90)\n",
    "t.speed(10)\n",
    "t.forward(100)"
   ]
  },
  {
   "cell_type": "code",
   "execution_count": null,
   "id": "d1751bb0",
   "metadata": {},
   "outputs": [],
   "source": [
    "# reset turtle\n",
    "t.home()\n",
    "t.clear()"
   ]
  },
  {
   "cell_type": "code",
   "execution_count": null,
   "id": "b6abc153",
   "metadata": {},
   "outputs": [],
   "source": [
    "# changing multiple features in one line\n",
    "t.home()\n",
    "t.clear()\n",
    "t.pen(pencolor=\"purple\", fillcolor=\"orange\", pensize=10, speed=9)\n",
    "t.begin_fill()\n",
    "t.circle(90)\n",
    "t.end_fill()"
   ]
  },
  {
   "cell_type": "code",
   "execution_count": null,
   "id": "8eb416cd",
   "metadata": {},
   "outputs": [],
   "source": [
    "# \"picking up the pen\" while drawing with penup and pendown\n",
    "t.home()\n",
    "t.clear()\n",
    "t.fd(100)\n",
    "t.rt(90)\n",
    "t.penup()\n",
    "t.fd(100)\n",
    "t.rt(90)\n",
    "t.pendown()\n",
    "t.fd(100)\n",
    "t.rt(90)\n",
    "t.penup()\n",
    "t.fd(100)\n",
    "t.pendown()"
   ]
  },
  {
   "cell_type": "code",
   "execution_count": null,
   "id": "565f86d0",
   "metadata": {},
   "outputs": [],
   "source": [
    "# undo the last code run\n",
    "t.undo()"
   ]
  },
  {
   "cell_type": "code",
   "execution_count": null,
   "id": "f1bff063",
   "metadata": {},
   "outputs": [],
   "source": [
    "# running undo more than once goes back step by step\n",
    "t.undo()"
   ]
  },
  {
   "cell_type": "code",
   "execution_count": null,
   "id": "eaba9f20",
   "metadata": {},
   "outputs": [],
   "source": [
    "t.undo()"
   ]
  },
  {
   "cell_type": "code",
   "execution_count": null,
   "id": "491650a2",
   "metadata": {},
   "outputs": [],
   "source": [
    "t.undo()"
   ]
  },
  {
   "cell_type": "code",
   "execution_count": null,
   "id": "04b9bdde",
   "metadata": {},
   "outputs": [],
   "source": [
    "t.undo()"
   ]
  },
  {
   "cell_type": "code",
   "execution_count": null,
   "id": "426d4161",
   "metadata": {},
   "outputs": [],
   "source": [
    "t.undo()"
   ]
  },
  {
   "cell_type": "code",
   "execution_count": null,
   "id": "f73e777a",
   "metadata": {},
   "outputs": [],
   "source": [
    "t.undo()"
   ]
  },
  {
   "cell_type": "code",
   "execution_count": null,
   "id": "15e0c575",
   "metadata": {},
   "outputs": [],
   "source": [
    "t.undo()"
   ]
  },
  {
   "cell_type": "code",
   "execution_count": null,
   "id": "88456a09",
   "metadata": {},
   "outputs": [],
   "source": [
    "t.undo()"
   ]
  },
  {
   "cell_type": "code",
   "execution_count": null,
   "id": "0c3783f3",
   "metadata": {},
   "outputs": [],
   "source": [
    "t.undo()"
   ]
  },
  {
   "cell_type": "code",
   "execution_count": null,
   "id": "7db168b0",
   "metadata": {},
   "outputs": [],
   "source": [
    "t.undo()"
   ]
  },
  {
   "cell_type": "code",
   "execution_count": null,
   "id": "a1871b26",
   "metadata": {},
   "outputs": [],
   "source": [
    "# reset the environment\n",
    "t.reset()"
   ]
  },
  {
   "cell_type": "code",
   "execution_count": null,
   "id": "08fca75e",
   "metadata": {},
   "outputs": [],
   "source": [
    "# leave a stamp of the turtle object\n",
    "t.stamp()\n",
    "t.fd(100)\n",
    "t.stamp()\n",
    "t.fd(100)"
   ]
  },
  {
   "cell_type": "code",
   "execution_count": null,
   "id": "15ef5fe1",
   "metadata": {},
   "outputs": [],
   "source": [
    "# clone a turtle\n",
    "c = t.clone()\n",
    "t.color(\"magenta\")\n",
    "c.color(\"red\")\n",
    "t.circle(100)\n",
    "c.circle(60)"
   ]
  },
  {
   "cell_type": "code",
   "execution_count": null,
   "id": "5390a808",
   "metadata": {},
   "outputs": [],
   "source": [
    "# reset\n",
    "t.reset()\n",
    "c.reset()\n",
    "t.clear()\n",
    "c.clear()"
   ]
  },
  {
   "cell_type": "code",
   "execution_count": null,
   "id": "5db40142",
   "metadata": {},
   "outputs": [],
   "source": [
    "# write a loop to create a square\n",
    "for i in range(6):\n",
    "    t.fd(100)\n",
    "    t.rt(90)"
   ]
  },
  {
   "cell_type": "code",
   "execution_count": null,
   "id": "4baf1113",
   "metadata": {},
   "outputs": [],
   "source": [
    "# what happens when we change the number in parenthesis?"
   ]
  },
  {
   "cell_type": "code",
   "execution_count": null,
   "id": "ee1531e1",
   "metadata": {},
   "outputs": [],
   "source": [
    "# check value of i\n",
    "print(i)"
   ]
  },
  {
   "cell_type": "code",
   "execution_count": null,
   "id": "55d8a9a1",
   "metadata": {},
   "outputs": [],
   "source": [
    "# starts at i=0, adds one when it completes the loop and stops after it has completed 4 times\n",
    "# also notice that python requires indentation for loops and conditions"
   ]
  },
  {
   "cell_type": "code",
   "execution_count": null,
   "id": "d1f3d232",
   "metadata": {},
   "outputs": [],
   "source": [
    "# another type of loop is a while loop\n",
    "n=10\n",
    "while n <= 40:\n",
    "    t.circle(n)\n",
    "    n = n+10"
   ]
  },
  {
   "cell_type": "code",
   "execution_count": null,
   "id": "cd0151ef",
   "metadata": {},
   "outputs": [],
   "source": [
    "# check value of n\n",
    "print(n)"
   ]
  },
  {
   "cell_type": "code",
   "execution_count": null,
   "id": "ff7ebcaf",
   "metadata": {},
   "outputs": [],
   "source": [
    "# loops stops when the condition is no longer true"
   ]
  },
  {
   "cell_type": "code",
   "execution_count": null,
   "id": "22ec65a5",
   "metadata": {},
   "outputs": [],
   "source": [
    "# execute a command given a condition\n",
    "t.clear()\n",
    "u = input(\"Would you like me to draw a shape? Type yes or no: \")\n",
    "if u == \"yes\":\n",
    "    t.circle(50)"
   ]
  },
  {
   "cell_type": "code",
   "execution_count": null,
   "id": "0decd21b",
   "metadata": {},
   "outputs": [],
   "source": [
    "# add an else clause\n",
    "u = input(\"Would you like me to draw a shape? Type yes or no: \")\n",
    "if u == \"yes\":\n",
    "    t.circle(50)\n",
    "else:\n",
    "    print(\"Okay\")"
   ]
  },
  {
   "cell_type": "code",
   "execution_count": null,
   "id": "951c0659",
   "metadata": {},
   "outputs": [],
   "source": [
    "# what if they don't type yes or no? Add elif\n",
    "u = input(\"Would you like me to draw a shape? Type yes or no: \")\n",
    "if u == \"yes\":\n",
    "    t.circle(50)\n",
    "elif u == \"no\":\n",
    "    print(\"Okay\")\n",
    "else:\n",
    "    print(\"Invalid Reply\")"
   ]
  },
  {
   "cell_type": "code",
   "execution_count": 10,
   "id": "bfb76601",
   "metadata": {},
   "outputs": [],
   "source": [
    "# close turtle window\n",
    "turtle.bye()"
   ]
  },
  {
   "cell_type": "markdown",
   "id": "bbe11385",
   "metadata": {},
   "source": [
    "## Now let's create a game..."
   ]
  },
  {
   "cell_type": "markdown",
   "id": "27440b76",
   "metadata": {},
   "source": [
    "#### The Objective: The player whose turtle reaches its home first wins the game.\n",
    "\n",
    "#### How to Play:\n",
    "\n",
    "- Each player rolls a dice to get a number.\n",
    "- The player then moves their turtle by that many steps.\n",
    "- The players alternate turns until one of them wins.\n",
    "#### The Structure:\n",
    "\n",
    "- Each player had a turtle indicated by a different color. You can have more than two players, but for the sake of this tutorial, you’ll be creating a two-player game.\n",
    "- Each turtle has a home position that it must reach.\n",
    "- Each player uses a die to choose a value at random for their turn. - - In your program, the die is represented by a list of numbers from 1 to 6."
   ]
  },
  {
   "cell_type": "code",
   "execution_count": 1,
   "id": "01dfba87",
   "metadata": {},
   "outputs": [],
   "source": [
    "# first import our libraries, turtle for the objects we draw \n",
    "# and random for our dice roll\n",
    "import turtle\n",
    "import random"
   ]
  },
  {
   "cell_type": "code",
   "execution_count": 2,
   "id": "7f1e1292",
   "metadata": {},
   "outputs": [],
   "source": [
    "# open a Screen\n",
    "s = turtle.getscreen()"
   ]
  },
  {
   "cell_type": "code",
   "execution_count": 3,
   "id": "4c27de1d",
   "metadata": {},
   "outputs": [],
   "source": [
    "t = turtle.Turtle()"
   ]
  },
  {
   "cell_type": "code",
   "execution_count": 4,
   "id": "3c527de8",
   "metadata": {
    "scrolled": true
   },
   "outputs": [],
   "source": [
    "t.color(\"white\")"
   ]
  },
  {
   "cell_type": "code",
   "execution_count": 5,
   "id": "8871d731",
   "metadata": {},
   "outputs": [],
   "source": [
    "turtle.title(\"team terrific turbo turtles\")"
   ]
  },
  {
   "cell_type": "code",
   "execution_count": 6,
   "id": "89d0f79b",
   "metadata": {},
   "outputs": [],
   "source": [
    "# create 2 turtles to represent 2 players, place the turtles in their starting positions\n",
    "player_one = turtle.Turtle()\n",
    "player_one.color(\"purple\")\n",
    "player_one.shape(\"turtle\")\n",
    "player_one.penup()\n",
    "player_one.goto(-200,100)\n",
    "player_two = player_one.clone()\n",
    "player_two.color(\"red\")\n",
    "player_two.penup()\n",
    "player_two.goto(-200,-100)"
   ]
  },
  {
   "cell_type": "code",
   "execution_count": 7,
   "id": "177171c2",
   "metadata": {},
   "outputs": [],
   "source": [
    "# create homes (circles) for turtles, and place equidistant to start\n",
    "player_one.goto(300,60)\n",
    "player_one.pendown()\n",
    "player_one.circle(40)\n",
    "player_one.penup()\n",
    "player_one.goto(-200,100)\n",
    "player_two.goto(300,-140)\n",
    "player_two.pendown()\n",
    "player_two.circle(40)\n",
    "player_two.penup()\n",
    "player_two.goto(-200,-100)\n",
    "\n",
    "# after drawing, they go back to start position"
   ]
  },
  {
   "cell_type": "code",
   "execution_count": 8,
   "id": "b2dc0494",
   "metadata": {},
   "outputs": [],
   "source": [
    "# create the die\n",
    "die = [1,2,3,4,5,6]\n",
    "# objects in brackets are list objects, other languages call them arrays"
   ]
  },
  {
   "cell_type": "markdown",
   "id": "1dc4895d",
   "metadata": {},
   "source": [
    "#### Developing the Game\n",
    "\n",
    "It’s time to develop the code for the rest of the game. You’ll be using loops and conditional statements here, so you need to be careful with the indentations and spaces. To start, take a look at the steps your program will need to take to run the game:\n",
    "\n",
    "- Step 1: You’ll start by telling your program to check if either turtle has reached its home.\n",
    "- Step 2: If they haven’t, then you’ll tell your program to allow the players to continue trying.\n",
    "- Step 3: In each loop, you tell your program to roll the die by randomly picking a number from the list.\n",
    "- Step 4: You then tell it to move the respective turtle accordingly, with the number of steps based on the outcome of this random selection."
   ]
  },
  {
   "cell_type": "code",
   "execution_count": 9,
   "id": "a9e41c74",
   "metadata": {},
   "outputs": [
    {
     "name": "stdout",
     "output_type": "stream",
     "text": [
      "Press 'Enter' to roll the die \n",
      "The result of the die roll is: \n",
      "3\n",
      "The number of steps will be: \n",
      "60\n",
      "Press 'Enter' to roll the die \n",
      "The result of the die roll is: \n",
      "6\n",
      "The number of steps will be: \n",
      "120\n",
      "Press 'Enter' to roll the die \n",
      "The result of the die roll is: \n",
      "4\n",
      "The number of steps will be: \n",
      "80\n",
      "Press 'Enter' to roll the die \n",
      "The result of the die roll is: \n",
      "2\n",
      "The number of steps will be: \n",
      "40\n",
      "Press 'Enter' to roll the die \n",
      "The result of the die roll is: \n",
      "6\n",
      "The number of steps will be: \n",
      "120\n",
      "Press 'Enter' to roll the die \n",
      "The result of the die roll is: \n",
      "2\n",
      "The number of steps will be: \n",
      "40\n",
      "Press 'Enter' to roll the die \n",
      "The result of the die roll is: \n",
      "3\n",
      "The number of steps will be: \n",
      "60\n",
      "Press 'Enter' to roll the die \n",
      "The result of the die roll is: \n",
      "1\n",
      "The number of steps will be: \n",
      "20\n",
      "Press 'Enter' to roll the die \n",
      "The result of the die roll is: \n",
      "1\n",
      "The number of steps will be: \n",
      "20\n",
      "Press 'Enter' to roll the die \n",
      "The result of the die roll is: \n",
      "1\n",
      "The number of steps will be: \n",
      "20\n",
      "Press 'Enter' to roll the die \n",
      "The result of the die roll is: \n",
      "3\n",
      "The number of steps will be: \n",
      "60\n",
      "Press 'Enter' to roll the die \n",
      "The result of the die roll is: \n",
      "6\n",
      "The number of steps will be: \n",
      "120\n",
      "Press 'Enter' to roll the die \n",
      "The result of the die roll is: \n",
      "6\n",
      "The number of steps will be: \n",
      "120\n",
      "Press 'Enter' to roll the die \n",
      "The result of the die roll is: \n",
      "6\n",
      "The number of steps will be: \n",
      "120\n",
      "Player One Wins!\n"
     ]
    }
   ],
   "source": [
    "# create a loop that checks if either tutrle is at home, \n",
    "# and if not rolls until there is a winner or loop has executed 20x\n",
    "for i in range(20):\n",
    "    # step 1\n",
    "    if player_one.pos() >= (300,100):\n",
    "        print(\"Player One Wins!\")\n",
    "        break\n",
    "    elif player_two.pos() >= (300,-100):\n",
    "        print(\"Player Two Wins!\")\n",
    "        break\n",
    "    # step 2\n",
    "    else:\n",
    "        # step 3\n",
    "        player_one_turn = input(\"Press 'Enter' to roll the die \")\n",
    "        die_outcome = random.choice(die)\n",
    "        print(\"The result of the die roll is: \")\n",
    "        print(die_outcome)\n",
    "        print(\"The number of steps will be: \")\n",
    "        print(20*die_outcome)\n",
    "        # step 4\n",
    "        player_one.fd(20*die_outcome)\n",
    "        # step 3\n",
    "        player_two_turn = input(\"Press 'Enter' to roll the die \")\n",
    "        die_outcome = random.choice(die)\n",
    "        print(\"The result of the die roll is: \")\n",
    "        print(die_outcome)\n",
    "        print(\"The number of steps will be: \")\n",
    "        print(20*die_outcome)\n",
    "        # step 4\n",
    "        player_two.fd(20*die_outcome)"
   ]
  },
  {
   "cell_type": "code",
   "execution_count": 10,
   "id": "0adb2c8a",
   "metadata": {},
   "outputs": [],
   "source": [
    "# close turtle window\n",
    "turtle.bye()"
   ]
  },
  {
   "cell_type": "markdown",
   "id": "f36760b4",
   "metadata": {},
   "source": [
    "#### Possible next steps\n",
    "\n",
    "- add more turtles\n",
    "- change the colors\n",
    "- change the speed\n",
    "- create some obstacles to challenge your players"
   ]
  },
  {
   "cell_type": "code",
   "execution_count": null,
   "id": "eae9df2b",
   "metadata": {},
   "outputs": [],
   "source": []
  }
 ],
 "metadata": {
  "kernelspec": {
   "display_name": "Python 3 (ipykernel)",
   "language": "python",
   "name": "python3"
  },
  "language_info": {
   "codemirror_mode": {
    "name": "ipython",
    "version": 3
   },
   "file_extension": ".py",
   "mimetype": "text/x-python",
   "name": "python",
   "nbconvert_exporter": "python",
   "pygments_lexer": "ipython3",
   "version": "3.8.3"
  }
 },
 "nbformat": 4,
 "nbformat_minor": 5
}
